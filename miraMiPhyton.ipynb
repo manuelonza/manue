{
  "nbformat": 4,
  "nbformat_minor": 0,
  "metadata": {
    "colab": {
      "provenance": [],
      "toc_visible": true,
      "authorship_tag": "ABX9TyMLSqUG4NwzHADgY+YL6n2j",
      "include_colab_link": true
    },
    "kernelspec": {
      "name": "python3",
      "display_name": "Python 3"
    },
    "language_info": {
      "name": "python"
    }
  },
  "cells": [
    {
      "cell_type": "markdown",
      "metadata": {
        "id": "view-in-github",
        "colab_type": "text"
      },
      "source": [
        "<a href=\"https://colab.research.google.com/github/manuelonza/manue/blob/main/miraMiPhyton.ipynb\" target=\"_parent\"><img src=\"https://colab.research.google.com/assets/colab-badge.svg\" alt=\"Open In Colab\"/></a>"
      ]
    },
    {
      "cell_type": "code",
      "source": [
        "# Importar\n",
        "from datetime import datetime\n",
        "\n",
        "# Array multidimensional\n",
        "datos = [\n",
        "    {\"nombre\": \"Manu\", \"año\": 1983, \"lugar\": \"Feltre\"},\n",
        "    {\"nombre\": \"Jairo\", \"año\": 1991, \"lugar\": \"Gijón\"},\n",
        "    {\"nombre\": \"Valerio\", \"año\": 1980, \"lugar\": \"Oviedo\"}\n",
        "]\n",
        "año_actual = datetime.now().year\n",
        "\n",
        "\n",
        "def algo(cosa):\n",
        "    for dato in cosa:\n",
        "      nacimiento=dato['año']\n",
        "      edad = año_actual - nacimiento\n",
        "\n",
        "      print(f'<li>')\n",
        "      print(f\"Nombre: {dato['nombre']}\")\n",
        "      print(f\"Edad: {edad}\")\n",
        "      print(f\"Lugar: {dato['lugar']}\")\n",
        "      print(f'</li>')\n",
        "      print(\"\\n\")  # Línea en blanco entre cada película\n",
        "\n",
        "\n",
        "algo(datos)\n",
        "\n",
        "\n"
      ],
      "metadata": {
        "colab": {
          "base_uri": "https://localhost:8080/"
        },
        "id": "iDcBHm8QvYkg",
        "outputId": "c898ce32-3475-4409-a42c-9a9c2c49fc3c"
      },
      "execution_count": 6,
      "outputs": [
        {
          "output_type": "stream",
          "name": "stdout",
          "text": [
            "<li>\n",
            "Nombre: Manu\n",
            "Edad: 41\n",
            "Lugar: Feltre\n",
            "</li>\n",
            "\n",
            "\n",
            "<li>\n",
            "Nombre: Jairo\n",
            "Edad: 33\n",
            "Lugar: Gijón\n",
            "</li>\n",
            "\n",
            "\n",
            "<li>\n",
            "Nombre: Valerio\n",
            "Edad: 44\n",
            "Lugar: Oviedo\n",
            "</li>\n",
            "\n",
            "\n"
          ]
        }
      ]
    }
  ]
}