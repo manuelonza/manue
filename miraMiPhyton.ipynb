{
  "nbformat": 4,
  "nbformat_minor": 0,
  "metadata": {
    "colab": {
      "provenance": [],
      "toc_visible": true,
      "authorship_tag": "ABX9TyOyEoGX+KeoPkOxU4g1lt7A",
      "include_colab_link": true
    },
    "kernelspec": {
      "name": "python3",
      "display_name": "Python 3"
    },
    "language_info": {
      "name": "python"
    }
  },
  "cells": [
    {
      "cell_type": "markdown",
      "metadata": {
        "id": "view-in-github",
        "colab_type": "text"
      },
      "source": [
        "<a href=\"https://colab.research.google.com/github/manuelonza/manue/blob/main/miraMiPhyton.ipynb\" target=\"_parent\"><img src=\"https://colab.research.google.com/assets/colab-badge.svg\" alt=\"Open In Colab\"/></a>"
      ]
    },
    {
      "cell_type": "code",
      "source": [
        "# Array multidimensional\n",
        "datos = [\n",
        "    {\"nombre\": \"Manu\", \"año\": 1983, \"lugar\": \"Feltre\"},\n",
        "    {\"nombre\": \"Jairo\", \"año\": 1991, \"lugar\": \"Gijón\"},\n",
        "    {\"nombre\": \"Valerio\", \"año\": 1980, \"lugar\": \"Oviedo\"}\n",
        "]\n",
        "\n",
        "\n",
        "def algo(cosa):\n",
        "    for dato in cosa:\n",
        "      print(f'<li>')\n",
        "      print(f\"Nombre: {dato['nombre']}\")\n",
        "      print(f\"Año: {dato['año']}\")\n",
        "      print(f\"Lugar: {dato['lugar']}\")\n",
        "      print(\"\\n\")  # Línea en blanco entre cada película\n",
        "      print(f'</li>')\n",
        "\n",
        "algo(datos)\n",
        "\n",
        "\n"
      ],
      "metadata": {
        "colab": {
          "base_uri": "https://localhost:8080/"
        },
        "id": "iDcBHm8QvYkg",
        "outputId": "f6fa4d46-9eac-4ae1-845b-965345b784de"
      },
      "execution_count": 27,
      "outputs": [
        {
          "output_type": "stream",
          "name": "stdout",
          "text": [
            "Nombre: Manu\n",
            "Año: 1983\n",
            "Lugar: Feltre\n",
            "\n",
            "\n",
            "Nombre: Jairo\n",
            "Año: 1991\n",
            "Lugar: Gijón\n",
            "\n",
            "\n",
            "Nombre: Valerio\n",
            "Año: 1980\n",
            "Lugar: Oviedo\n",
            "\n",
            "\n"
          ]
        }
      ]
    }
  ]
}